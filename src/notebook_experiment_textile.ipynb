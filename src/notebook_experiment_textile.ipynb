{
 "cells": [
  {
   "cell_type": "markdown",
   "id": "18a99401-16b1-477e-bead-3d950d98e7cd",
   "metadata": {
    "tags": []
   },
   "source": [
    "# Train an autoencoder on the Textile dataset"
   ]
  },
  {
   "cell_type": "code",
   "execution_count": 1,
   "id": "a13e3864-474d-4c69-88e3-e493e9c11c3c",
   "metadata": {
    "tags": []
   },
   "outputs": [],
   "source": [
    "import numpy as np\n",
    "import matplotlib.pyplot as plt\n",
    "import torch \n",
    "\n",
    "from train import train\n",
    "from models import Autoencoder_one_layer_SPDnet, Autoencoder_nlayers_regular_SPDnet\n",
    "from spdnet.loss import RiemannianDistanceLoss\n",
    "from data_preprocessing import LabeledDataset\n",
    "\n",
    "from skimage import filters\n",
    "import h5py\n",
    "import pandas as pd\n",
    "\n",
    "from pyriemann.classification import MDM\n",
    "\n",
    "from tqdm.notebook import tqdm\n",
    "import plotly.graph_objects as go"
   ]
  },
  {
   "cell_type": "markdown",
   "id": "a05c848e-8588-424a-9bc5-f4d24fdaad79",
   "metadata": {},
   "source": [
    "## Load dataset"
   ]
  },
  {
   "cell_type": "code",
   "execution_count": 2,
   "id": "200aad1c-b8ae-4de0-87df-88f8b6971ca0",
   "metadata": {
    "tags": []
   },
   "outputs": [
    {
     "data": {
      "application/vnd.jupyter.widget-view+json": {
       "model_id": "53f26bd2a71a4ad982ec474bf5d79156",
       "version_major": 2,
       "version_minor": 0
      },
      "text/plain": [
       "  0%|          | 0/16000 [00:00<?, ?it/s]"
      ]
     },
     "metadata": {},
     "output_type": "display_data"
    },
    {
     "name": "stdout",
     "output_type": "stream",
     "text": [
      "(16000, 10, 10)\n"
     ]
    }
   ],
   "source": [
    "filename = \"../data/textile/train64.h5\"\n",
    "f = h5py.File(filename, \"r\")\n",
    "my_data = pd.read_csv(\"../data/textile/train64.csv\", delimiter=\",\")\n",
    "\n",
    "labels = my_data[\"indication_type\"]\n",
    "cool = f[\"images\"]\n",
    "ind = np.where((labels == \"good\") | (labels == \"cut\"))\n",
    "coo = cool[ind[0], :, :, 0]\n",
    "lab = labels[ind[0]]\n",
    "\n",
    "Vals = []\n",
    "Covs = []\n",
    "imgs = []\n",
    "\n",
    "for i in tqdm(range(len(ind[0]))):\n",
    "\n",
    "    # We normalize the images to prevent any bias based on lighting or intensity\n",
    "    # prior to filtering and covariance matrix computation.\n",
    "    g = (coo[i, 1:, 1:] - np.mean(coo[i, 1:, 1:])) / np.std(coo[i, 1:, 1:])\n",
    "    Intensity = g.flatten()\n",
    "    Xdif = np.diff(g, axis=0)\n",
    "    Ydif = np.diff(g, axis=1)\n",
    "    Xdiff = np.diff(g, axis=0).flatten()\n",
    "    Ydiff = np.diff(g, axis=1).flatten()\n",
    "    gauss = filters.gaussian(g, sigma=2)\n",
    "    gauss1 = filters.gaussian(g, sigma=3)\n",
    "    gauss2 = filters.gaussian(g, sigma=4)\n",
    "    gaus = filters.gaussian(g, sigma=2).flatten()\n",
    "    gaus1 = filters.gaussian(g, sigma=3).flatten()\n",
    "    gaus2 = filters.gaussian(g, sigma=4).flatten()\n",
    "    hess = filters.laplace(g).flatten()\n",
    "    frang = filters.farid(g).flatten()\n",
    "    hess1 = filters.laplace(gauss).flatten()\n",
    "    frang1 = filters.farid(gauss).flatten()\n",
    "    hess2 = filters.laplace(gauss1).flatten()\n",
    "    frang2 = filters.farid(gauss1).flatten()\n",
    "\n",
    "    imgs.append(Intensity)\n",
    "\n",
    "    Val = np.vstack(\n",
    "        [Intensity, gaus, gaus1, gaus2, hess, frang, hess1, hess2, frang1, frang2]\n",
    "    )\n",
    "\n",
    "    Vals.append(Val)\n",
    "\n",
    "    Covs.append(np.cov(Val))\n",
    "all_cov = np.array(Covs)\n",
    "all_labels = np.array(lab)\n",
    "N, size_matrices, _ = all_cov.shape\n",
    "print(all_cov.shape)"
   ]
  },
  {
   "cell_type": "code",
   "execution_count": 3,
   "id": "24d30227-dcb7-493b-b468-da78a3ec77f0",
   "metadata": {
    "tags": []
   },
   "outputs": [],
   "source": [
    "all_cov_torch = torch.from_numpy(all_cov).unsqueeze(1)\n",
    "dataset_textile = LabeledDataset(all_cov_torch, all_labels)"
   ]
  },
  {
   "cell_type": "code",
   "execution_count": 4,
   "id": "96d1c3e3-f28d-467a-9b20-86ad9484bf9d",
   "metadata": {
    "tags": []
   },
   "outputs": [],
   "source": [
    "batch_size = 32\n",
    "x_train, x_val, x_test = torch.utils.data.random_split(\n",
    "    dataset_textile, lengths=[0.5, 0.25, 0.25]\n",
    ")\n",
    "\n",
    "train_loader = torch.utils.data.DataLoader(\n",
    "    x_train, batch_size=batch_size, shuffle=True\n",
    ")\n",
    "val_loader = torch.utils.data.DataLoader(\n",
    "    x_val, batch_size=batch_size * 2, shuffle=False\n",
    ")\n",
    "test_loader = torch.utils.data.DataLoader(\n",
    "    x_test, batch_size=batch_size, shuffle=False\n",
    ")"
   ]
  },
  {
   "cell_type": "code",
   "execution_count": 5,
   "id": "fc570a1c-eace-40c8-9749-b547650f1ea6",
   "metadata": {
    "tags": []
   },
   "outputs": [],
   "source": [
    "hi = 1 # Number of channels input\n",
    "ho = 1 # Number of channels output\n",
    "ni = size_matrices # Dimension of matrices input\n",
    "no = 4 # Dimension of matrices output\n",
    "n_layers = 3"
   ]
  },
  {
   "cell_type": "code",
   "execution_count": 6,
   "id": "cfcde5d7-da22-48ae-8aac-393032d5e388",
   "metadata": {
    "tags": []
   },
   "outputs": [],
   "source": [
    "model = Autoencoder_nlayers_regular_SPDnet(ho, hi, ni, no, n_layers)"
   ]
  },
  {
   "cell_type": "code",
   "execution_count": 7,
   "id": "28a85701-2cdd-425d-8247-87fd9f0524e9",
   "metadata": {
    "tags": []
   },
   "outputs": [
    {
     "data": {
      "text/plain": [
       "Autoencoder_nlayers_regular_SPDnet(\n",
       "  (encoder): Sequential(\n",
       "    (0): BiMap()\n",
       "    (1): ReEig()\n",
       "    (2): BiMap()\n",
       "    (3): ReEig()\n",
       "    (4): LogEig()\n",
       "  )\n",
       "  (decoder): Sequential(\n",
       "    (0): ExpEig()\n",
       "    (1): ReEig()\n",
       "    (2): BiMap()\n",
       "    (3): ReEig()\n",
       "    (4): BiMap()\n",
       "    (5): ReEig()\n",
       "  )\n",
       ")"
      ]
     },
     "execution_count": 7,
     "metadata": {},
     "output_type": "execute_result"
    }
   ],
   "source": [
    "model"
   ]
  },
  {
   "cell_type": "code",
   "execution_count": 8,
   "id": "a2778151-9f94-4ebd-a34d-39c61ecface6",
   "metadata": {
    "tags": []
   },
   "outputs": [],
   "source": [
    "criterion = RiemannianDistanceLoss()\n",
    "n_epochs = 100\n",
    "lr = 0.001"
   ]
  },
  {
   "cell_type": "code",
   "execution_count": 9,
   "id": "df4c4daf-5234-4c23-bde0-e1957005d8fb",
   "metadata": {
    "tags": []
   },
   "outputs": [
    {
     "name": "stderr",
     "output_type": "stream",
     "text": [
      "Training: 100%|██████████| 100/100 [05:02<00:00,  3.03s/it, Train Loss=0.0886, Val Loss=0.045]\n"
     ]
    }
   ],
   "source": [
    "res = train(train_loader, val_loader, model, n_epochs, criterion, lr=lr)"
   ]
  },
  {
   "cell_type": "code",
   "execution_count": 29,
   "id": "2054947b-c83d-416a-81f5-b473957e2383",
   "metadata": {
    "tags": []
   },
   "outputs": [
    {
     "data": {
      "image/png": "[encoded data removed]",
      "text/plain": [
       "<Figure size 640x480 with 1 Axes>"
      ]
     },
     "metadata": {},
     "output_type": "display_data"
    }
   ],
   "source": [
    "fig = plt.figure()\n",
    "plt.plot(res[2], label=\"Loss train\")\n",
    "plt.plot(res[-1], label=\"Loss val\")\n",
    "plt.legend()\n",
    "fig = tikzplotlib_fix_ncols(fig)\n",
    "#tikzplotlib.save(\"test.tex\")"
   ]
  },
  {
   "cell_type": "markdown",
   "id": "55f5e86b-1486-49e8-84c0-44f037a8a6a5",
   "metadata": {
    "tags": []
   },
   "source": [
    "--- \n",
    "## Train an MDM in the code space\n"
   ]
  },
  {
   "cell_type": "code",
   "execution_count": 17,
   "id": "2cec7b82-94e4-447b-88e3-92a024dda886",
   "metadata": {
    "tags": []
   },
   "outputs": [],
   "source": [
    "from pyriemann.classification import MDM\n",
    "from sklearn.model_selection import train_test_split"
   ]
  },
  {
   "cell_type": "code",
   "execution_count": 18,
   "id": "2aa64234-e326-4078-9266-c6a7bc0c8f73",
   "metadata": {
    "tags": []
   },
   "outputs": [],
   "source": [
    "cov_test = x_test.dataset[x_test.indices][0].detach().numpy()[:,0]\n",
    "labels_test = x_test.dataset[x_test.indices][1]"
   ]
  },
  {
   "cell_type": "code",
   "execution_count": 34,
   "id": "19b7ae72-0d7b-4264-9dc5-5312126a9ac7",
   "metadata": {
    "tags": []
   },
   "outputs": [],
   "source": [
    "train_MDM, test_MDM, label_train_MDM, label_test_MDM = train_test_split(cov_test,labels_test, test_size=0.2, shuffle=True,random_state=42)"
   ]
  },
  {
   "cell_type": "code",
   "execution_count": 35,
   "id": "978db470-2be2-45a8-b0e0-ac8df2bd1d5e",
   "metadata": {
    "tags": []
   },
   "outputs": [
    {
     "data": {
      "text/plain": [
       "0.84"
      ]
     },
     "execution_count": 35,
     "metadata": {},
     "output_type": "execute_result"
    }
   ],
   "source": [
    "MDM_hd = MDM()\n",
    "MDM_hd.fit(train_MDM, label_train_MDM)\n",
    "MDM_hd.score(test_MDM, label_test_MDM)"
   ]
  },
  {
   "cell_type": "code",
   "execution_count": 36,
   "id": "b2de0f50-faec-48da-b48a-923c01a074cd",
   "metadata": {
    "tags": []
   },
   "outputs": [],
   "source": [
    "model.eval()\n",
    "with torch.no_grad():\n",
    "    train_MDM_after_AE = model(torch.from_numpy(train_MDM).unsqueeze(1))\n",
    "    test_MDM_after_AE = model(torch.from_numpy(test_MDM).unsqueeze(1))"
   ]
  },
  {
   "cell_type": "code",
   "execution_count": 37,
   "id": "10df39a4-d0c8-4ad9-b016-840cb70edd41",
   "metadata": {
    "tags": []
   },
   "outputs": [
    {
     "data": {
      "text/plain": [
       "0.8475"
      ]
     },
     "execution_count": 37,
     "metadata": {},
     "output_type": "execute_result"
    }
   ],
   "source": [
    "MDM_after_AE = MDM()\n",
    "MDM_after_AE.fit(train_MDM_after_AE.detach().numpy()[:,0], label_train_MDM)\n",
    "MDM_after_AE.score(test_MDM_after_AE.detach().numpy()[:,0], label_test_MDM)"
   ]
  },
  {
   "cell_type": "code",
   "execution_count": null,
   "id": "076e7079-70f4-46ed-b8e2-50bf097d48ea",
   "metadata": {},
   "outputs": [],
   "source": []
  }
 ],
 "metadata": {
  "kernelspec": {
   "display_name": "Python 3 (ipykernel)",
   "language": "python",
   "name": "python3"
  },
  "language_info": {
   "codemirror_mode": {
    "name": "ipython",
    "version": 3
   },
   "file_extension": ".py",
   "mimetype": "text/x-python",
   "name": "python",
   "nbconvert_exporter": "python",
   "pygments_lexer": "ipython3",
   "version": "3.11.5"
  }
 },
 "nbformat": 4,
 "nbformat_minor": 5
}
